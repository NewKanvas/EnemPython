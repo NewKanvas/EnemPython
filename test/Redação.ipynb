{
 "cells": [
  {
   "cell_type": "markdown",
   "metadata": {},
   "source": [
    "# Dicas\n",
    "\n",
    "## Sumario\n",
    "\n",
    "- [Conectivos](#conectivos)"
   ]
  },
  {
   "cell_type": "markdown",
   "metadata": {},
   "source": [
    "# Conectivos\n",
    "## Use este conetivos para ter uma redação melhor\n",
    "\n",
    "**Conectores temporais:**\n",
    "- Anteriormente;\n",
    "- Posteriormente;\n",
    "- Simultaneamente;\n",
    "- Nesse ínterim.\n",
    "\n",
    "**Conectores de causa e efeito:**\n",
    "- Portanto;\n",
    "- Assim;\n",
    "- Por conseguinte;\n",
    "- Como resultado;\n",
    "- Em vista disso.\n",
    "\n",
    "**Conectores de comparação:**\n",
    "- Da mesma forma;\n",
    "- Similarmente;\n",
    "- À semelhança de;\n",
    "- Assim como.\n",
    "\n",
    "**Conectores de contraste:**\n",
    "- No entanto;\n",
    "- Por outro lado;\n",
    "- Apesar disso;\n",
    "- Em contrapartida.\n",
    "\n",
    "**Conectores de adição:**\n",
    "- Além disso;\n",
    "- Adicionalmente;\n",
    "- Acrescentando a isso;\n",
    "- Também.\n",
    "\n",
    "**Conectores de condição:**\n",
    "- Se;\n",
    "- Caso;\n",
    "- Sob a condição de que;\n",
    "- Contanto que.\n",
    "\n",
    "**Conectores de explicação:**\n",
    "- Isto é;\n",
    "- Ou seja;\n",
    "- Em outras palavras;\n",
    "- Em razão disso.\n"
   ]
  }
 ],
 "metadata": {
  "kernelspec": {
   "display_name": "Python 3",
   "language": "python",
   "name": "python3"
  },
  "language_info": {
   "name": "python",
   "version": "3.11.5"
  }
 },
 "nbformat": 4,
 "nbformat_minor": 2
}
